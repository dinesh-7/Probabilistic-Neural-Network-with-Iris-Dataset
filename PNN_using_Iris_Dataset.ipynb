{
  "nbformat": 4,
  "nbformat_minor": 0,
  "metadata": {
    "colab": {
      "name": "PNN using Iris Dataset.ipynb",
      "provenance": [],
      "collapsed_sections": [],
      "include_colab_link": true
    },
    "kernelspec": {
      "name": "python3",
      "display_name": "Python 3"
    },
    "language_info": {
      "name": "python"
    }
  },
  "cells": [
    {
      "cell_type": "markdown",
      "metadata": {
        "id": "view-in-github",
        "colab_type": "text"
      },
      "source": [
        "<a href=\"https://colab.research.google.com/github/megh7a/Probabilistic-Neural-Network-with-Iris-Dataset/blob/main/PNN_using_Iris_Dataset.ipynb\" target=\"_parent\"><img src=\"https://colab.research.google.com/assets/colab-badge.svg\" alt=\"Open In Colab\"/></a>"
      ]
    },
    {
      "cell_type": "code",
      "execution_count": null,
      "metadata": {
        "colab": {
          "base_uri": "https://localhost:8080/"
        },
        "id": "04mWfF0-YBvK",
        "outputId": "f3a9cb78-0e34-48e2-ae26-e2adf930c057"
      },
      "outputs": [
        {
          "output_type": "stream",
          "name": "stdout",
          "text": [
            "     sepal.length  sepal.width  petal.length  petal.width  Class\n",
            "0             5.1          3.5           1.4          0.2      1\n",
            "1             4.9          3.0           1.4          0.2      1\n",
            "2             4.7          3.2           1.3          0.2      1\n",
            "3             4.6          3.1           1.5          0.2      1\n",
            "4             5.0          3.6           1.4          0.2      1\n",
            "..            ...          ...           ...          ...    ...\n",
            "145           6.7          3.0           5.2          2.3      3\n",
            "146           6.3          2.5           5.0          1.9      3\n",
            "147           6.5          3.0           5.2          2.0      3\n",
            "148           6.2          3.4           5.4          2.3      3\n",
            "149           5.9          3.0           5.1          1.8      3\n",
            "\n",
            "[150 rows x 5 columns]\n",
            "To show the cleaned data!\n",
            "3\n"
          ]
        }
      ],
      "source": [
        "# 0. import the needed packages\n",
        "import numpy as np\n",
        "import pandas as pd\n",
        "from numpy import genfromtxt\n",
        "import matplotlib.pyplot as plt\n",
        "\n",
        "# 1. Read the data points\n",
        "\n",
        "\n",
        "my_data = pd.read_csv('iris.csv', sep=',',header=0)\n",
        "cleaned_data = np.array([ my_data['sepal.length'].tolist(),my_data['sepal.width'].tolist(),my_data['petal.length'].tolist(),my_data['petal.width'].tolist()]).T\n",
        "# def NormalizeData(my_data):\n",
        "#     return (my_data - np.min(my_data)) / (np.max(my_data) - np.min(my_data))\n",
        "#cleaned_data = np.array([ my_data['Feature 1'].tolist(),my_data['Feature 2'].tolist()]).T\n",
        "#cleaned_data = np.array([ my_data['sepal.length'].tolist(),my_data['sepal.width'].tolist(),my_data['petal.length'].tolist(),my_data['petal.width'].tolist()]).T\n",
        "\n",
        "print (my_data)\n",
        "#print (cleaned_data)\n",
        "print(\"To show the cleaned data!\")\n",
        "\n",
        "# 2. Declare the needed variable \n",
        "groups = my_data.groupby('Class')\n",
        "number_of_classes = len(groups) \n",
        "print(number_of_classes) # Here we have 3 different classes\n",
        "dictionary_of_sum = {}\n",
        "numrber_of_features  = 4 # We have sepal length,sepal width,petal length and petal width\n",
        "sigma = 1\n",
        "increament_current_row_in_matrix = 0\n",
        "\n",
        "# 3. Define the point that we wish to classifiy - Clearly it is Red \n",
        "#point_want_to_classify = [6.1, 2.3, 4.7, 1.3]\n",
        "\n",
        "# **INPUT LAYER OF THE PNN **\n",
        "# 4. Loop via number of classes \n",
        "\n",
        "\t"
      ]
    },
    {
      "cell_type": "code",
      "source": [
        "slen=float(input(\"Enter the Sepal Length\"))\n",
        "swid=float(input(\"Enter the Sepal Width\"))\n",
        "plen=float(input(\"Enter the Petal Length\"))\n",
        "pwid=float(input(\"Enter the Petal Width\"))"
      ],
      "metadata": {
        "colab": {
          "base_uri": "https://localhost:8080/"
        },
        "id": "VfMp8IcEUQF_",
        "outputId": "ac2c28c1-a0f5-4168-fa47-4f5ed7e9efc4"
      },
      "execution_count": null,
      "outputs": [
        {
          "name": "stdout",
          "output_type": "stream",
          "text": [
            "Enter the Sepal Length4.4\n",
            "Enter the Sepal Width3.2\n",
            "Enter the Petal Length1.5\n",
            "Enter the Petal Width0.3\n"
          ]
        }
      ]
    },
    {
      "cell_type": "code",
      "source": [
        "point_want_to_classify = [slen,swid,plen,pwid]\n",
        "print(point_want_to_classify)"
      ],
      "metadata": {
        "id": "Wstfac7hTiym",
        "colab": {
          "base_uri": "https://localhost:8080/"
        },
        "outputId": "25c9ee38-32b8-4ae6-9238-6d62c605bbd1"
      },
      "execution_count": null,
      "outputs": [
        {
          "output_type": "stream",
          "name": "stdout",
          "text": [
            "[4.4, 3.2, 1.5, 0.3]\n"
          ]
        }
      ]
    },
    {
      "cell_type": "code",
      "source": [
        "for k in range(1,number_of_classes+1):\n",
        "\n",
        "\t# 4.1 Initiate the sume to zero \n",
        "\tdictionary_of_sum[k] = 0\n",
        "\tnumber_of_data_point_from_class_k = len(groups.get_group(k))\n",
        "\n",
        "\t# ** PATTERN LAYER OF PNN **\n",
        "\t# 5. Loop via the number of training example in class i \n",
        "\t# 5.1 - Declare a temporary variable to hold the sum of gaussian distribution sum\n",
        "\ttemp_summnation = 0.0\n",
        "\n",
        "\t# 6. Loop via number of points in the class - NUMBER OF POINTS IN THE CLASS!\n",
        "\tfor i in range(1,number_of_data_point_from_class_k+1):\n",
        "\n",
        "\t\t# 6.1 - Implementation of getting Gaussians \n",
        "\t\ttempp = (point_want_to_classify[0] - cleaned_data[increament_current_row_in_matrix][0]) * (point_want_to_classify[0] - cleaned_data[increament_current_row_in_matrix][0]) \n",
        "\t\ttempq = (point_want_to_classify[1] - cleaned_data[increament_current_row_in_matrix][1]) * (point_want_to_classify[1] - cleaned_data[increament_current_row_in_matrix][1]) \n",
        "\t\ttempr = (point_want_to_classify[2] - cleaned_data[increament_current_row_in_matrix][2]) * (point_want_to_classify[2] - cleaned_data[increament_current_row_in_matrix][2]) \n",
        "\t\ttemps = (point_want_to_classify[3] - cleaned_data[increament_current_row_in_matrix][3]) * (point_want_to_classify[3] - cleaned_data[increament_current_row_in_matrix][3]) \n",
        "\t\t#print(tempp , tempq ,tempr ,temps)\n",
        "\t\ttemp_sum = -1 * (tempp + tempq +tempr +temps)\n",
        "\t\t#print(temp_sum)\n",
        "\t\ttemp_sum = temp_sum/( 2 * np.power(sigma,2) )\n",
        "\t\t#print(temp_sum)\n",
        "    \t\n",
        "\t\t# 6.2 - Implementation of Sum of Gaussians\n",
        "\t\ttemp_summnation = temp_summnation + temp_sum\n",
        "\n",
        "\t\t# 6.3 - Increamenting the row of the matrix to get the next data point\n",
        "\t\tincreament_current_row_in_matrix  = increament_current_row_in_matrix + 1\n",
        "\n",
        "\t# 7. Finally - For K class - the Probability of current data point belonging to that class\n",
        "\tdictionary_of_sum[k]  = temp_summnation \n"
      ],
      "metadata": {
        "id": "zdmZowgkD29W"
      },
      "execution_count": null,
      "outputs": []
    },
    {
      "cell_type": "code",
      "source": [
        "dictionary_of_sum"
      ],
      "metadata": {
        "colab": {
          "base_uri": "https://localhost:8080/"
        },
        "id": "iikZbqo3SvWx",
        "outputId": "9d67b7e0-bfdc-4239-fae8-2dd6405c7dfe"
      },
      "execution_count": null,
      "outputs": [
        {
          "output_type": "execute_result",
          "data": {
            "text/plain": [
              "{1: -18.164999999999985, 2: -295.67, 3: -627.6699999999998}"
            ]
          },
          "metadata": {},
          "execution_count": 48
        }
      ]
    },
    {
      "cell_type": "code",
      "source": [
        "# 8. Get the classified class \n",
        "classified_class = str( max(dictionary_of_sum, key=dictionary_of_sum.get) )\n",
        "if(classified_class=='1'):\n",
        "  print(\"The given features \", point_want_to_classify ,\" is classified as Setosa\")\n",
        "elif classified_class=='2':\n",
        "  print(\"The given features \", point_want_to_classify ,\" is classified as Versicolor\")\n",
        "elif classified_class=='3':\n",
        "  print(\"The given features \", point_want_to_classify ,\" is classified as Virginica\")\n",
        "print(classified_class)\n",
        "# 9. Group the data by class \n",
        "groups = my_data.groupby('Class')\n",
        "\n",
        "# Drawing the graph\n",
        "fig = plt.figure()\n",
        "ax = fig.add_subplot(111, projection='3d')\n",
        "#fig, ax = plt.subplots()\n",
        "ax.margins(0.05) # Optional, just adds 5% padding to the autoscaling\n",
        "\n",
        "for name, group in groups:\n",
        "    #print(group['sepal.length'])\n",
        "    ax.plot(group['sepal.length'], group['sepal.width'], group['petal.length'],group['petal.width'], marker='o', linestyle='', ms=8, label=name)\n",
        "\n",
        "# Draw the unclassified data point \n",
        "#ax.plot(int(point_want_to_classify[0]), int(point_want_to_classify[1]), int(point_want_to_classify[2]),int(point_want_to_classify[3]),marker='o', linestyle='', ms=12, label = 0)\n",
        "\n",
        "plt.show()"
      ],
      "metadata": {
        "colab": {
          "base_uri": "https://localhost:8080/",
          "height": 283
        },
        "id": "bnpTX_vDPwfW",
        "outputId": "6b5ae871-8bcd-418c-8982-e93336e6f635"
      },
      "execution_count": null,
      "outputs": [
        {
          "output_type": "stream",
          "name": "stdout",
          "text": [
            "The given features  [4.4, 3.2, 1.5, 0.3]  is classified as Setosa\n",
            "1\n"
          ]
        },
        {
          "output_type": "display_data",
          "data": {
            "text/plain": [
              "<Figure size 432x288 with 1 Axes>"
            ],
            "image/png": "[encoded data removed]"
          },
          "metadata": {
            "needs_background": "light"
          }
        }
      ]
    }
  ]
}